{
  "nbformat": 4,
  "nbformat_minor": 0,
  "metadata": {
    "colab": {
      "provenance": [],
      "include_colab_link": true
    },
    "kernelspec": {
      "name": "python3",
      "display_name": "Python 3"
    },
    "language_info": {
      "name": "python"
    }
  },
  "cells": [
    {
      "cell_type": "markdown",
      "metadata": {
        "id": "view-in-github",
        "colab_type": "text"
      },
      "source": [
        "<a href=\"https://colab.research.google.com/github/Rubana1/Lab-Experiment-/blob/main/Lab_Experiments.ipynb\" target=\"_parent\"><img src=\"https://colab.research.google.com/assets/colab-badge.svg\" alt=\"Open In Colab\"/></a>"
      ]
    },
    {
      "cell_type": "code",
      "execution_count": null,
      "metadata": {
        "colab": {
          "base_uri": "https://localhost:8080/"
        },
        "id": "sTsG5NnXgym5",
        "outputId": "cb173823-1755-4098-c8b5-0f76fb697bec"
      },
      "outputs": [
        {
          "output_type": "stream",
          "name": "stdout",
          "text": [
            "Enter a number  56\n",
            "Palindrome: False\n"
          ]
        }
      ],
      "source": [
        "# Experiment 1\n",
        "import math\n",
        "def fact(n):\n",
        "  fact=math.factorial(n)\n",
        "  return fact\n",
        "\n",
        "def pal(n):\n",
        "  n=str(n)\n",
        "  rev=n[::-1]\n",
        "  if n==rev:\n",
        "    return True\n",
        "  else:\n",
        "    return False\n",
        "\n",
        "n=int(input(\"Enter a number  \"))\n",
        "if n%2!=0:\n",
        "  fact=fact(n)\n",
        "  length = len(str(fact))\n",
        "  print(\"The Factorial is {}. The length is {}.\".format(fact,length))\n",
        "elif n%2==0:\n",
        "  pal=pal(n)\n",
        "  print(\"Palindrome:\",pal)"
      ]
    },
    {
      "cell_type": "code",
      "source": [
        "# Experiment 2\n",
        "str1 = input('Enter string 1: ')\n",
        "str2 = input('Enter string 2: ')\n",
        "count = 0\n",
        "for i in str1:\n",
        "  for j in str2:\n",
        "    if i == j:\n",
        "      count += 1\n",
        "if count == len(str2):\n",
        "  print(\"Yes\")\n",
        "else:\n",
        "  print(\"No\")\n",
        "\n"
      ],
      "metadata": {
        "colab": {
          "base_uri": "https://localhost:8080/"
        },
        "id": "KpBZB6xpiVSR",
        "outputId": "c110bfa8-3079-4fa8-c565-0acc67ab0556"
      },
      "execution_count": null,
      "outputs": [
        {
          "output_type": "stream",
          "name": "stdout",
          "text": [
            "Enter string 1: engineering\n",
            "Enter string 2: datascience\n",
            "Yes\n"
          ]
        }
      ]
    },
    {
      "cell_type": "code",
      "source": [
        "# Experiment 3\n",
        "li = []\n",
        "li = list(input().split())\n",
        "first = li[0]\n",
        "print(\"the first element of the list is\",first)\n",
        "last = li[-1]\n",
        "print(\"the last element of the list is\",last)\n",
        "li2 = li[-3:]\n",
        "print(\"the last 3 elements are\", li2)\n",
        "\n"
      ],
      "metadata": {
        "colab": {
          "base_uri": "https://localhost:8080/"
        },
        "id": "JjBaJH1ylt4h",
        "outputId": "d577e85c-c5ed-4f32-d5ff-c58348153890"
      },
      "execution_count": null,
      "outputs": [
        {
          "output_type": "stream",
          "name": "stdout",
          "text": [
            "python\n",
            "the first element of the list is python\n",
            "the last element of the list is python\n",
            "the last 3 elements are ['python']\n"
          ]
        }
      ]
    },
    {
      "cell_type": "code",
      "source": [
        "# Experiment 4\n",
        "li = list(map(int,input().split()))\n",
        "flag = 0\n",
        "for i in range(len(li) - 1):\n",
        "  if li[i] <= li[i+1]:\n",
        "    continue\n",
        "  else:\n",
        "    print(\"It is not in ascending order\")\n",
        "    flag = 1\n",
        "    break\n",
        "\n",
        "if flag == 0:\n",
        "  print(\"It is in ascending order\")\n",
        "\n",
        "\n"
      ],
      "metadata": {
        "colab": {
          "base_uri": "https://localhost:8080/"
        },
        "id": "EQ-TMFD_oNhR",
        "outputId": "b466fbd1-233f-4a41-ffd3-c98ea40fa4b4"
      },
      "execution_count": null,
      "outputs": [
        {
          "output_type": "stream",
          "name": "stdout",
          "text": [
            "1 2 9 5 6\n",
            "It is not in ascending order\n"
          ]
        }
      ]
    },
    {
      "cell_type": "code",
      "source": [
        "# Experiment 5\n",
        "tu = tuple(map(int, input().split()))\n",
        "string = ''\n",
        "for i in range(len(tu) - 1):\n",
        "  string += str(tu[i])\n",
        "print('the string is ', string, '\\n', type(string))\n"
      ],
      "metadata": {
        "colab": {
          "base_uri": "https://localhost:8080/"
        },
        "id": "NXgQTj6nuzEq",
        "outputId": "b7b14d47-01b3-42ad-f91e-cf5302e9191b"
      },
      "execution_count": null,
      "outputs": [
        {
          "output_type": "stream",
          "name": "stdout",
          "text": [
            "1 7 9 4 6\n",
            "the string is  1794 \n",
            " <class 'str'>\n"
          ]
        }
      ]
    },
    {
      "cell_type": "code",
      "source": [
        "# Experiment 6\n",
        "tu = tuple(map(int, input().split()))\n",
        "string = ''\n",
        "for i in range(len(tu)):\n",
        "  string += str(tu[i])\n",
        "string = string[::-1]\n",
        "revtu = ()\n",
        "for i in string:\n",
        "   revtu += (int(i),)\n",
        "\n",
        "\n",
        "print(\"the reversed tuple is\", revtu)"
      ],
      "metadata": {
        "id": "vL0EGBi_w8te",
        "colab": {
          "base_uri": "https://localhost:8080/"
        },
        "outputId": "c9c46ee0-d0d1-4537-b684-17d66c6abff5"
      },
      "execution_count": null,
      "outputs": [
        {
          "output_type": "stream",
          "name": "stdout",
          "text": [
            "5 9 1 0 3\n",
            "the reversed tuple is (3, 0, 1, 9, 5)\n"
          ]
        }
      ]
    },
    {
      "cell_type": "code",
      "source": [
        "# Experiment 7\n",
        "set1 = set(input(\"Input first set:  \").split())\n",
        "set2 = set(input(\"Input second set:  \").split())\n",
        "if set1.issubset(set2):\n",
        "  print(\"The first set is a subset of the second set\")\n",
        "\n",
        "else:\n",
        "  print(\"It is not a subset\")"
      ],
      "metadata": {
        "colab": {
          "base_uri": "https://localhost:8080/"
        },
        "id": "C6kyL4qKL-CQ",
        "outputId": "a911a7d5-1cb6-48ef-c54b-ce648c155fa9"
      },
      "execution_count": null,
      "outputs": [
        {
          "output_type": "stream",
          "name": "stdout",
          "text": [
            "Input first set:  room\n",
            "Input second set:  order\n",
            "It is not a subset\n"
          ]
        }
      ]
    },
    {
      "cell_type": "code",
      "source": [
        "# Experiment 8\n",
        "color = {}\n",
        "n = int(input(\"Enter the number of elements \"))\n",
        "for i in range(n):\n",
        "  key = input(\"Enter the key: \")\n",
        "  value = input(\"Enter the value: \")\n",
        "  color[key] = value\n",
        "print(\"Dictionary elements are: \\n\")\n",
        "for key, value in color.items():\n",
        "  print(key, value)"
      ],
      "metadata": {
        "colab": {
          "base_uri": "https://localhost:8080/"
        },
        "id": "yAGI1LuxOEgq",
        "outputId": "2d5a330d-417e-4549-8909-0c146a69ca63"
      },
      "execution_count": null,
      "outputs": [
        {
          "output_type": "stream",
          "name": "stdout",
          "text": [
            "Enter the number of elements 4\n",
            "Enter the key: orange\n",
            "Enter the value: fruit\n",
            "Enter the key: red\n",
            "Enter the value: apple\n",
            "Enter the key: yellow\n",
            "Enter the value: banana\n",
            "Enter the key: green\n",
            "Enter the value: guava\n",
            "Dictionary elements are: \n",
            "\n",
            "orange fruit\n",
            "red apple\n",
            "yellow banana\n",
            "green guava\n"
          ]
        }
      ]
    },
    {
      "cell_type": "code",
      "source": [
        "# Experiment 9\n",
        "import numpy as np\n",
        "li = list(map(int,input().split()))\n",
        "a = np.array(li)\n",
        "print(\"The Numpy Array is:\",a)"
      ],
      "metadata": {
        "colab": {
          "base_uri": "https://localhost:8080/"
        },
        "id": "KRwRWbdePUex",
        "outputId": "a1f989f1-b21a-44b2-f408-7ede47e11632"
      },
      "execution_count": null,
      "outputs": [
        {
          "output_type": "stream",
          "name": "stdout",
          "text": [
            "5 7 2 4 1\n",
            "The Numpy Array is: [5 7 2 4 1]\n"
          ]
        }
      ]
    },
    {
      "cell_type": "code",
      "source": [
        "# Experiment 10\n",
        "import numpy as np\n",
        "li = list(map(int,input().split()))\n",
        "tu = tuple(map(int,input().split()))\n",
        "\n",
        "a1 = np.array(li)\n",
        "a2 = np.array(tu)\n",
        "a12 = np.concatenate((a1,a2))\n",
        "print(\"The combined array is:\",a12)\n",
        "print(type(a12))\n",
        "\n"
      ],
      "metadata": {
        "colab": {
          "base_uri": "https://localhost:8080/"
        },
        "id": "fCo6np6YQcki",
        "outputId": "a241cdc6-cbab-4662-f3c0-b0e34af20de1"
      },
      "execution_count": null,
      "outputs": [
        {
          "output_type": "stream",
          "name": "stdout",
          "text": [
            "4 3 9 2 1 \n",
            "5 4 2 9 1 6 \n",
            "The combined array is: [4 3 9 2 1 5 4 2 9 1 6]\n",
            "<class 'numpy.ndarray'>\n"
          ]
        }
      ]
    },
    {
      "cell_type": "code",
      "source": [
        "# Experiment 11\n",
        "import numpy as np\n",
        "import pandas as pd\n",
        "a = np.random.rand(3)\n",
        "print(\"Array:\",a)\n",
        "df1 = pd.DataFrame(a)\n",
        "print(\"DataFrame:\\n\", df1,\"\\n\", type(df1),)\n",
        "\n",
        "s = pd.Series(a)\n",
        "print(\"\\nSeries:\\n\",s)\n",
        "df2 = pd.DataFrame(s)\n",
        "print(\"DataFrame:\\n\", df2, \"\\n\", type(df2))\n"
      ],
      "metadata": {
        "colab": {
          "base_uri": "https://localhost:8080/"
        },
        "id": "2OL2rpTcSEOF",
        "outputId": "23610e8f-c37d-4c22-a7e6-18ea6cb0fb14"
      },
      "execution_count": null,
      "outputs": [
        {
          "output_type": "stream",
          "name": "stdout",
          "text": [
            "Array: [0.30601636 0.57181089 0.5500203 ]\n",
            "DataFrame:\n",
            "           0\n",
            "0  0.306016\n",
            "1  0.571811\n",
            "2  0.550020 \n",
            " <class 'pandas.core.frame.DataFrame'>\n",
            "\n",
            "Series:\n",
            " 0    0.306016\n",
            "1    0.571811\n",
            "2    0.550020\n",
            "dtype: float64\n",
            "DataFrame:\n",
            "           0\n",
            "0  0.306016\n",
            "1  0.571811\n",
            "2  0.550020 \n",
            " <class 'pandas.core.frame.DataFrame'>\n"
          ]
        }
      ]
    },
    {
      "cell_type": "code",
      "source": [
        "# Experiment 12\n",
        "import pandas as pd\n",
        "s1 = pd.Series([1, 2, 3, 4, 5])\n",
        "s2 = pd.Series([2, 4, 6, 8, 10])\n",
        "print(\"Addition: \\n\", s1 + s2)\n",
        "print(\"Subtraction: \\n\", s1 - s2)\n",
        "print(\"Multiplication: \\n\", s1 * s2)\n",
        "print(\"Division: \\n\", s1 / s2)"
      ],
      "metadata": {
        "colab": {
          "base_uri": "https://localhost:8080/"
        },
        "id": "s-PJAX8GoU9Y",
        "outputId": "c060f518-969c-46fb-8ab4-9a48cfdae681"
      },
      "execution_count": null,
      "outputs": [
        {
          "output_type": "stream",
          "name": "stdout",
          "text": [
            "Addition: \n",
            " 0     3\n",
            "1     6\n",
            "2     9\n",
            "3    12\n",
            "4    15\n",
            "dtype: int64\n",
            "Subtraction: \n",
            " 0   -1\n",
            "1   -2\n",
            "2   -3\n",
            "3   -4\n",
            "4   -5\n",
            "dtype: int64\n",
            "Multiplication: \n",
            " 0     2\n",
            "1     8\n",
            "2    18\n",
            "3    32\n",
            "4    50\n",
            "dtype: int64\n",
            "Division: \n",
            " 0    0.5\n",
            "1    0.5\n",
            "2    0.5\n",
            "3    0.5\n",
            "4    0.5\n",
            "dtype: float64\n"
          ]
        }
      ]
    }
  ]
}